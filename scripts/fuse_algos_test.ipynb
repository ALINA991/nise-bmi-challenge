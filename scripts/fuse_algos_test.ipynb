{
 "cells": [
  {
   "cell_type": "code",
   "execution_count": 12,
   "metadata": {},
   "outputs": [],
   "source": [
    "import test_algo\n",
    "import numpy as np"
   ]
  },
  {
   "cell_type": "code",
   "execution_count": 30,
   "metadata": {},
   "outputs": [],
   "source": [
    "pos_player = [1,0] # player is in first row of field\n",
    "pos_ball = [7,0] # ball is second to last row\n",
    "pos_goal = [0,3] # goas is one row above the field\n",
    "pos_goal2 = [0,4] # on 2 sqares "
   ]
  },
  {
   "cell_type": "code",
   "execution_count": 31,
   "metadata": {},
   "outputs": [
    {
     "name": "stdout",
     "output_type": "stream",
     "text": [
      "[[ 0.  0.  0. 55. 55.  0.  0.  0.]\n",
      " [ 0. 66.  0.  0.  0.  0.  0.  0.]\n",
      " [ 0.  0.  0.  0.  0.  0.  0.  0.]\n",
      " [ 0.  0.  0.  0.  0.  0.  0.  0.]\n",
      " [ 0.  0.  0.  0.  0.  0.  0.  0.]\n",
      " [ 0.  0.  0.  0.  0.  0.  0.  0.]\n",
      " [ 0.  0.  0.  0.  0.  0.  0.  0.]\n",
      " [44.  0.  0.  0.  0.  0.  0.  0.]\n",
      " [ 0.  0.  0.  0.  0.  0.  0.  0.]]\n"
     ]
    }
   ],
   "source": [
    "#initialize\n",
    "\n",
    "def the_grid(pos_ball, pos_player, pos_goal):\n",
    "    grid = np.zeros((9,8))\n",
    "    grid[pos_ball[0]][pos_ball[1]] = 44\n",
    "    grid[pos_player[0]][pos_player[0]] = 66\n",
    "    grid[pos_goal[0]][pos_goal[1]] = 55\n",
    "    grid[pos_goal2[0]][pos_goal2[1]] = 55\n",
    "    print(grid)\n",
    "\n",
    "the_grid(pos_ball, pos_player, pos_goal)"
   ]
  },
  {
   "cell_type": "code",
   "execution_count": 32,
   "metadata": {},
   "outputs": [
    {
     "name": "stdout",
     "output_type": "stream",
     "text": [
      "go_down\n"
     ]
    },
    {
     "ename": "IndexError",
     "evalue": "index -15 is out of bounds for axis 0 with size 10",
     "output_type": "error",
     "traceback": [
      "\u001b[0;31m---------------------------------------------------------------------------\u001b[0m",
      "\u001b[0;31mIndexError\u001b[0m                                Traceback (most recent call last)",
      "\u001b[1;32m/Users/alina/Desktop/NISE/project1/NISE/scripts/fuse_algos_test.ipynb Cell 4\u001b[0m in \u001b[0;36m<cell line: 1>\u001b[0;34m()\u001b[0m\n\u001b[1;32m      <a href='vscode-notebook-cell:/Users/alina/Desktop/NISE/project1/NISE/scripts/fuse_algos_test.ipynb#W3sZmlsZQ%3D%3D?line=0'>1</a>\u001b[0m \u001b[39mwhile\u001b[39;00m \u001b[39mnot\u001b[39;00m pos_player[\u001b[39m0\u001b[39m] \u001b[39m==\u001b[39m pos_ball[\u001b[39m0\u001b[39m]: \n\u001b[0;32m----> <a href='vscode-notebook-cell:/Users/alina/Desktop/NISE/project1/NISE/scripts/fuse_algos_test.ipynb#W3sZmlsZQ%3D%3D?line=1'>2</a>\u001b[0m     test_algo\u001b[39m.\u001b[39;49mgo_down(pos_player)\n",
      "File \u001b[0;32m~/Desktop/NISE/project1/NISE/scripts/test_algo.py:29\u001b[0m, in \u001b[0;36mgo_down\u001b[0;34m(pos)\u001b[0m\n\u001b[1;32m     27\u001b[0m \u001b[39mprint\u001b[39m(\u001b[39m'\u001b[39m\u001b[39mgo_down\u001b[39m\u001b[39m'\u001b[39m)\n\u001b[1;32m     28\u001b[0m pos_player[\u001b[39m1\u001b[39m] \u001b[39m-\u001b[39m\u001b[39m=\u001b[39m \u001b[39m1\u001b[39m\n\u001b[0;32m---> 29\u001b[0m the_grid(pos_ball[\u001b[39m0\u001b[39;49m], pos_ball[\u001b[39m1\u001b[39;49m], pos_player[\u001b[39m0\u001b[39;49m], pos_player[\u001b[39m1\u001b[39;49m])\n\u001b[1;32m     30\u001b[0m \u001b[39mreturn\u001b[39;00m\n",
      "File \u001b[0;32m~/Desktop/NISE/project1/NISE/scripts/test_algo.py:17\u001b[0m, in \u001b[0;36mthe_grid\u001b[0;34m(xb, yb, xp, yp)\u001b[0m\n\u001b[1;32m     15\u001b[0m grid \u001b[39m=\u001b[39m np\u001b[39m.\u001b[39mones((\u001b[39m10\u001b[39m,\u001b[39m10\u001b[39m))\n\u001b[1;32m     16\u001b[0m grid[xb][yb] \u001b[39m=\u001b[39m \u001b[39m66\u001b[39m\n\u001b[0;32m---> 17\u001b[0m grid[xp][yp] \u001b[39m=\u001b[39m \u001b[39m44\u001b[39m \n\u001b[1;32m     18\u001b[0m \u001b[39mprint\u001b[39m(grid)\n",
      "\u001b[0;31mIndexError\u001b[0m: index -15 is out of bounds for axis 0 with size 10"
     ]
    }
   ],
   "source": [
    "while not pos_player[0] == pos_ball[0]: \n",
    "    test_algo.go_down(pos_player)\n"
   ]
  },
  {
   "cell_type": "code",
   "execution_count": null,
   "metadata": {},
   "outputs": [],
   "source": []
  }
 ],
 "metadata": {
  "kernelspec": {
   "display_name": "Python 3.8.13 ('i2dl')",
   "language": "python",
   "name": "python3"
  },
  "language_info": {
   "codemirror_mode": {
    "name": "ipython",
    "version": 3
   },
   "file_extension": ".py",
   "mimetype": "text/x-python",
   "name": "python",
   "nbconvert_exporter": "python",
   "pygments_lexer": "ipython3",
   "version": "3.8.13"
  },
  "orig_nbformat": 4,
  "vscode": {
   "interpreter": {
    "hash": "863183e81c7c7eebfe3ddb4c6ade9125de4c8e35e71de358ab5d60b648eed4c6"
   }
  }
 },
 "nbformat": 4,
 "nbformat_minor": 2
}
